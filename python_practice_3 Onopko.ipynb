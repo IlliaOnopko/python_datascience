{
  "nbformat": 4,
  "nbformat_minor": 0,
  "metadata": {
    "colab": {
      "provenance": []
    },
    "kernelspec": {
      "name": "python3",
      "display_name": "Python 3"
    },
    "language_info": {
      "name": "python"
    }
  },
  "cells": [
    {
      "cell_type": "markdown",
      "source": [
        "# I. Оператори порівняння та логічні оператори. Умови."
      ],
      "metadata": {
        "id": "qDEi2Pi-4yUC"
      }
    },
    {
      "cell_type": "markdown",
      "source": [
        "1. Створіть цілочисленну змінну зі своїм щасливим або улюбленим числом. Напишіть код, який би автоматизовував наступну задачу.\n",
        "\n",
        "Якщо число парне, помножте його на 2 та виведіть результат на екран.\n",
        "\n",
        "Але якщо число непарне, помножте його на 3 та додайте 1 і виведіть на екран."
      ],
      "metadata": {
        "id": "3v8D4Dkm43Ua"
      }
    },
    {
      "cell_type": "code",
      "execution_count": null,
      "metadata": {
        "id": "dlVjc-Nu4bmb"
      },
      "outputs": [],
      "source": [
        "number = 1773\n",
        "if number % 2 == 0:\n",
        "    result = number * 2\n",
        "else:\n",
        "    result = number * 3 + 1\n",
        "print(result)"
      ]
    },
    {
      "cell_type": "markdown",
      "source": [
        "2. Створіть змінну, що посилається на список. Якщо список пустий, додайте будь-який елемент у кінець списку. Якщо ж ні, то нічого не робіть."
      ],
      "metadata": {
        "id": "H669P0QK5BI_"
      }
    },
    {
      "cell_type": "code",
      "source": [
        "l1 = []\n",
        "if not l1:\n",
        "  l1.append(\"1\")\n"
      ],
      "metadata": {
        "id": "ecWlfra45f6E"
      },
      "execution_count": 2,
      "outputs": []
    },
    {
      "cell_type": "markdown",
      "source": [
        "3. Створіть рядок зі своїм імʼям латинкою. Напишіть код, який би автоматизовував наступну задачу.\n",
        "\n",
        "Якщо в імені є літера \"а\"\n",
        " або \"i\", Виведіть на екран повідомлення \"A or I is in the name\".\n",
        "\n",
        "\n",
        "\n",
        "Якщо в імені є літери \"o\" та \"n\", Виведіть на екран повідомлення \"O and N is in the name\".\n",
        "\n",
        "Також якщо в імені немає літери \"о\", але є \"n\", Виведіть на екран повідомлення \"Only N is in the name\".\n",
        "\n",
        "В решті випадків виведіть на екран повідомлення \"There is no N in the name, but there might be O\".\n",
        "\n",
        "Зверніть увагу, що, наприклад, для імені \"Antonina\" буде виведено два повідомлення."
      ],
      "metadata": {
        "id": "h9Y3cMUd5h85"
      }
    },
    {
      "cell_type": "code",
      "source": [
        "my_name = \"Illia\"\n",
        "if 'a' in my_name or 'i' in my_name:\n",
        "  print('A or I is in the name')\n",
        "if 'o' in my_name and 'n' in my_name:\n",
        "  print( \"O and N is in the name\")\n",
        "elif 'o' not in my_name and 'n'  in my_name:\n",
        "  print(\"Only N is in the name\")\n",
        "else:\n",
        "  print(\"There is no N in the name, but there might be O\")"
      ],
      "metadata": {
        "id": "bUH4LUx35u52",
        "colab": {
          "base_uri": "https://localhost:8080/"
        },
        "outputId": "48956908-7aad-46e1-f0f0-8439d75636d9"
      },
      "execution_count": 6,
      "outputs": [
        {
          "output_type": "stream",
          "name": "stdout",
          "text": [
            "A or I is in the name\n",
            "There is no N in the name, but there might be O\n"
          ]
        }
      ]
    },
    {
      "cell_type": "markdown",
      "source": [
        "# II. Comprehensions."
      ],
      "metadata": {
        "id": "wPCXJv4354cU"
      }
    },
    {
      "cell_type": "markdown",
      "source": [
        "4. Створіть список, використовуючи if (не if-else), range та comprehension."
      ],
      "metadata": {
        "id": "jULLW5jN55Pw"
      }
    },
    {
      "cell_type": "code",
      "source": [
        "even = [i for i in range(1, 22) if i % 2 == 0]\n",
        "print(even)\n"
      ],
      "metadata": {
        "id": "mlZalnVC6W3F"
      },
      "execution_count": null,
      "outputs": []
    },
    {
      "cell_type": "markdown",
      "source": [
        "5. Створіть словник, використовуючи dict comprehension, що містить if else. Коли слід використовувати comprehensions, а коли їх слід уникати?"
      ],
      "metadata": {
        "id": "LqhEQ4JW6XcC"
      }
    },
    {
      "cell_type": "code",
      "source": [
        "parity = {i: \"even\" if i % 2 == 0 else \"odd\" for i in range(1, 10)}\n",
        "print(parity)"
      ],
      "metadata": {
        "id": "1yVaFbOs6hta"
      },
      "execution_count": 4,
      "outputs": []
    },
    {
      "cell_type": "markdown",
      "source": [
        "*місце для відповіді"
      ],
      "metadata": {
        "id": "wbkzNhKq6hzz"
      }
    },
    {
      "cell_type": "markdown",
      "source": [
        "6. Створіть список з рядками та запишіть його у змінну. Створіть ще один список на основі попереднього, де кожен рядок буде містити тільки три перших заглавних символи. Наприклад: ['hello', 'i', 'dont', 'care'] -> ['HEL', 'I', 'DON', 'CAR']. Використання comprehensions обовʼязкове."
      ],
      "metadata": {
        "id": "ZlqB8G3G6lHP"
      }
    },
    {
      "cell_type": "code",
      "source": [
        "strings = ['hello', 'my', 'name', 'is' , 'illia']\n",
        "result = [s.upper()[:3] for s in strings]\n",
        "print(result)"
      ],
      "metadata": {
        "id": "nw6rz0bR60VC",
        "colab": {
          "base_uri": "https://localhost:8080/"
        },
        "outputId": "891a3a4a-7ad7-45e9-8552-03a795b937de"
      },
      "execution_count": 5,
      "outputs": [
        {
          "output_type": "stream",
          "name": "stdout",
          "text": [
            "['HEL', 'MY', 'NAM', 'IS', 'ILL']\n"
          ]
        }
      ]
    },
    {
      "cell_type": "markdown",
      "source": [
        "# III. Цикли."
      ],
      "metadata": {
        "id": "Tj573IAH64Fz"
      }
    },
    {
      "cell_type": "markdown",
      "source": [
        "7. Продемонструйте роботу циклу while. Не можна використовувати True для запуску циклу, щоб уникнути безкінечного циклу!"
      ],
      "metadata": {
        "id": "tN_33xdE65H5"
      }
    },
    {
      "cell_type": "code",
      "source": [
        "n = 10\n",
        "while n > 0:\n",
        "    print(n)\n",
        "    n -= 1"
      ],
      "metadata": {
        "id": "Kd9FO6yG63P5",
        "colab": {
          "base_uri": "https://localhost:8080/"
        },
        "outputId": "fa02916b-7ffa-4741-cd7b-35b94fb57804"
      },
      "execution_count": 7,
      "outputs": [
        {
          "output_type": "stream",
          "name": "stdout",
          "text": [
            "10\n",
            "9\n",
            "8\n",
            "7\n",
            "6\n",
            "5\n",
            "4\n",
            "3\n",
            "2\n",
            "1\n"
          ]
        }
      ]
    },
    {
      "cell_type": "markdown",
      "source": [
        "8. Напишіть програму, яка виведе на екран непарні числа в діапазоні від 0 до 20 включно."
      ],
      "metadata": {
        "id": "x2CmfZO-7pW0"
      }
    },
    {
      "cell_type": "code",
      "source": [
        "for i in range(21):\n",
        "    if i % 2 != 0:\n",
        "        print(i)"
      ],
      "metadata": {
        "id": "aCSRYA6s7tkF",
        "colab": {
          "base_uri": "https://localhost:8080/"
        },
        "outputId": "535c721d-8e16-40c9-9d00-05524b07f0c2"
      },
      "execution_count": 8,
      "outputs": [
        {
          "output_type": "stream",
          "name": "stdout",
          "text": [
            "1\n",
            "3\n",
            "5\n",
            "7\n",
            "9\n",
            "11\n",
            "13\n",
            "15\n",
            "17\n",
            "19\n"
          ]
        }
      ]
    },
    {
      "cell_type": "markdown",
      "source": [
        "9. Створіть список з елементами булевого типу або None. Використовуючи цикли, отримайте в результаті список з кортежами, де перший елемент кортежу - індекс(ціле число), а другий елемент - відповідне значення з першого списку.\n",
        "\n",
        "Наприклад, [True, True, None, False] -> [(0, True), (1, True), (2, None), (3, False)]"
      ],
      "metadata": {
        "id": "MDWNocZD7t_B"
      }
    },
    {
      "cell_type": "code",
      "source": [
        "blist = [True, False, None, True]\n",
        "pairs = [(i, val) for i, val in enumerate(blist)]\n",
        "print(pairs)"
      ],
      "metadata": {
        "id": "0EUyjMdp7yfh",
        "colab": {
          "base_uri": "https://localhost:8080/"
        },
        "outputId": "37d41bfc-9f23-4d5f-894f-7acea1842c5e"
      },
      "execution_count": 9,
      "outputs": [
        {
          "output_type": "stream",
          "name": "stdout",
          "text": [
            "[(0, True), (1, False), (2, None), (3, True)]\n"
          ]
        }
      ]
    },
    {
      "cell_type": "markdown",
      "source": [
        "10. Створіть словник, де ключі - назви книжок, а значення - їхня кількість у наявності в Вашій міні-бібліотеці. Бібліотека має містити щонайменше 6 книжок (6 пар значень у словнику) і щонайбільше 10 (пар значень). Використовуючи цикли, оновіть словник (не створюйте новий) так, щоби кількість книг у наявності збільшилося на 5 кожної книги. Наприклад,\n",
        "{'It': 3, 'Fault stars': 10, 'Bible': 17, 'Psychological romance': 4, 'Harry Potter': 13} -> {'It': 8, 'Fault stars': 15, 'Bible': 22, 'Psychological romance': 9, 'Harry Potter': 18}"
      ],
      "metadata": {
        "id": "-6XUqlcG7zKs"
      }
    },
    {
      "cell_type": "code",
      "source": [
        "library = {\n",
        "    'The Great Gatsby': 10,\n",
        "    'Dune': 8,\n",
        "    'War and Peace': 9,\n",
        "    'The Catcher in the Rye': 12,\n",
        "    'Don Quixote': 7,\n",
        "    'The Lord of the Rings': 11\n",
        "}\n",
        "for book in library:\n",
        "    library[book] += 5\n",
        "print(library)"
      ],
      "metadata": {
        "id": "Ceoj9wwb791q"
      },
      "execution_count": null,
      "outputs": []
    },
    {
      "cell_type": "markdown",
      "source": [
        "11. Визначте цілочислену змінну n, що належить проміжку від 4 до 10 включно. Використовуючи цикли, виведіть в консоль наступний патерн.\n",
        "\n",
        "#\n",
        "##\n",
        "###\n",
        "####\n",
        "\n",
        "... #*n\n"
      ],
      "metadata": {
        "id": "QLzyJM288AC7"
      }
    },
    {
      "cell_type": "code",
      "source": [
        "import random\n",
        "n = random.randint(4,10)\n",
        "for i in range(n):\n",
        "  print(\"#\"*(i+1))"
      ],
      "metadata": {
        "id": "KOpng87s8Duz",
        "colab": {
          "base_uri": "https://localhost:8080/"
        },
        "outputId": "66134e8a-8e6d-44c9-d321-3f7d9ff937e8"
      },
      "execution_count": 12,
      "outputs": [
        {
          "output_type": "stream",
          "name": "stdout",
          "text": [
            "#\n",
            "##\n",
            "###\n",
            "####\n",
            "#####\n",
            "######\n"
          ]
        }
      ]
    },
    {
      "cell_type": "markdown",
      "source": [
        "12. Гра \"Нумо вгадай\".\n",
        "Розробіть просту гру, де користувач має вгадати випадкове число від 1 до 100. Для генерації випадкового числа використовуйте функцію random.randint(a, b) (тут a та b включно). Для отримання числа з консолі використовуйте функцію input(), результат якої обовʼязково явно приведіть до типу int.\n",
        "\n",
        "Підказка: використовуйте цикл while та умови if-else, щоб повідомити користувачу піказки (напр. \"Більше\", \"Менше\") поки користувач не вгадає. По завершенню виведіть кількість спроб, які знадобилися для вгадування."
      ],
      "metadata": {
        "id": "_bd-bqAT8EHn"
      }
    },
    {
      "cell_type": "code",
      "source": [
        "randnt = random.randint(1, 100)\n",
        "tries = 0\n",
        "guess = 0\n",
        "while guess != randnt:\n",
        "  try:\n",
        "    guess = int(input(\"Enter number: \"))\n",
        "  except ValueError:\n",
        "    print(\"Enter a valid number\")\n",
        "    continue\n",
        "  tries += 1\n",
        "  if guess > randnt:\n",
        "    print(\"Smaller\")\n",
        "  elif guess < randnt:\n",
        "    print(\"Greater\")\n",
        "print(f\"You guessed the number in {tries} tries\")"
      ],
      "metadata": {
        "id": "IK9nnxFK8Hkl",
        "colab": {
          "base_uri": "https://localhost:8080/"
        },
        "outputId": "a22b1467-4c59-4758-954c-4be30e00a379"
      },
      "execution_count": 14,
      "outputs": [
        {
          "output_type": "stream",
          "name": "stdout",
          "text": [
            "Enter number: 45\n",
            "Smaller\n",
            "Enter number: 34\n",
            "Smaller\n",
            "Enter number: 20\n",
            "Smaller\n",
            "Enter number: 10\n",
            "Smaller\n",
            "Enter number: 5\n",
            "Greater\n",
            "Enter number: 7\n",
            "Greater\n",
            "Enter number: 8\n",
            "Enter number: 9\n",
            "Greater\n",
            "You guessed the number in 8 tries\n"
          ]
        }
      ]
    },
    {
      "cell_type": "markdown",
      "source": [
        "# Вітаю! Ви велика(ий) молодець, що впоралась(вся). Похваліть себе та побалуйте чимось приємним. Я Вами пишаюся."
      ],
      "metadata": {
        "id": "PXoXWb7Z8IGi"
      }
    }
  ]
}