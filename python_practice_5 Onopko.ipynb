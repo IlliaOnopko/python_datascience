{
  "nbformat": 4,
  "nbformat_minor": 0,
  "metadata": {
    "colab": {
      "provenance": []
    },
    "kernelspec": {
      "name": "python3",
      "display_name": "Python 3"
    },
    "language_info": {
      "name": "python"
    }
  },
  "cells": [
    {
      "cell_type": "markdown",
      "source": [
        "# I. OOP"
      ],
      "metadata": {
        "id": "5qV_sehzFCTp"
      }
    },
    {
      "cell_type": "markdown",
      "source": [
        "1. (6б). Створіть клас Animal, додайте три атрибути, один з яких має значення за замовчуванням та два методи на свій розсуд."
      ],
      "metadata": {
        "id": "tx_U_hOALyfg"
      }
    },
    {
      "cell_type": "code",
      "source": [
        "class Animal:\n",
        "    def __init__(self, species, legs=4, sound=\"\"):\n",
        "        self.species = species\n",
        "        self.legs = legs\n",
        "        self.sound = sound\n",
        "    def do_sound(self):\n",
        "        if self.sound:\n",
        "            print(f\"{self.species} робить: {self.sound}\")\n",
        "        else:\n",
        "            print(f\"{self.species} мовчить.\")\n",
        "    def describe(self):\n",
        "        print(f\"Це {self.species} з {self.legs} -ма ногами.\")\n"
      ],
      "metadata": {
        "id": "-Vf895KaL88N"
      },
      "execution_count": null,
      "outputs": []
    },
    {
      "cell_type": "markdown",
      "source": [
        "2. (2б). Створіть два обʼєкти цього класу, де один з обʼєктів створюється із дефолтним значенням атрибуту. На одному обʼєкті отримайте значення його атрибуту, а на іншому викличте один з його методів."
      ],
      "metadata": {
        "id": "X_UlOMB0L93w"
      }
    },
    {
      "cell_type": "code",
      "source": [
        "class Animal:\n",
        "    def __init__(self, species, legs=4, sound=\"\"):\n",
        "        self.species = species\n",
        "        self.legs = legs\n",
        "        self.sound = sound\n",
        "    def do_sound(self):\n",
        "        if self.sound:\n",
        "            print(f\"{self.species} робить: {self.sound}\")\n",
        "        else:\n",
        "            print(f\"{self.species} мовчить.\")\n",
        "    def describe(self):\n",
        "        print(f\"Це {self.species} з {self.legs} -ма ногами.\")\n",
        "\n",
        "animal1 = Animal(\"Unknown\")\n",
        "tiger = Animal(\"Тігор\", legs=4, sound=\"Рррррр\")\n",
        "print(f\"{animal1.species=}\")\n",
        "tiger.do_sound()"
      ],
      "metadata": {
        "id": "7gBu0ESOMCpG",
        "colab": {
          "base_uri": "https://localhost:8080/"
        },
        "outputId": "55a9f47f-7688-438e-bf24-fcdfdec247b1"
      },
      "execution_count": 12,
      "outputs": [
        {
          "output_type": "stream",
          "name": "stdout",
          "text": [
            "animal1.species='Unknown'\n",
            "Тігор робить: Рррррр\n"
          ]
        }
      ]
    },
    {
      "cell_type": "markdown",
      "source": [
        "3. (5б). Створіть клас, де атрибути мають різні рівні доступу. Спробуйте отримати їхні значення та опишіть результати."
      ],
      "metadata": {
        "id": "HoqSCZt1MHn5"
      }
    },
    {
      "cell_type": "code",
      "source": [
        "class Demo:\n",
        "    def __init__(self):\n",
        "        self.public_attribute = \"Це публічний атрибут\"\n",
        "        self._protected_attribute = \"Це захищений атрибут\"\n",
        "        self.__private_attribute = \"Це приватний атрибут\"\n",
        "demo_object = Demo()\n",
        "try:\n",
        "  print(demo_object.public_attribute)\n",
        "  print(demo_object._protected_attribute)\n",
        "  print(f\"Спроба доступу до приватного атрибуту через метод: {demo_object._Demo__private_attribute}\")\n",
        "  print(demo_object.__private_attribute) # Raises AttributeError\n",
        "except AttributeError as e:\n",
        "  print(f\"Error: {e}\")"
      ],
      "metadata": {
        "id": "r9b3vJxBMSPV",
        "colab": {
          "base_uri": "https://localhost:8080/"
        },
        "outputId": "9cd75fda-a5b5-4ef7-fbf4-9d7fcac8dc4f"
      },
      "execution_count": 13,
      "outputs": [
        {
          "output_type": "stream",
          "name": "stdout",
          "text": [
            "This is a public attribute\n",
            "This is a protected attribute\n",
            "Accessing private attribute by directly getting mangled attr: This is a private attribute\n",
            "Error: 'Demo' object has no attribute '__private_attribute'\n"
          ]
        }
      ]
    },
    {
      "cell_type": "markdown",
      "source": [
        "4. (7б). Як ви розумієте термін self? Для чого використовується метод __init __?"
      ],
      "metadata": {
        "id": "5op2m2vgMSkZ"
      }
    },
    {
      "cell_type": "markdown",
      "source": [
        "__init__ використовується для ініціалізації новостворених об'єктів. Він викликається автоматично при створенні нового екземпляру класу. Цей метод використовується для встановлення початкових значень атрибутів об'єкту та виконання будь-яких інших завдань ініціалізації"
      ],
      "metadata": {
        "id": "DyiPqNRvMasx"
      }
    },
    {
      "cell_type": "markdown",
      "source": [
        "5. (9б). Створіть клас Фігура без атрибутів, з методом get_area для отримання площі фігури, що повертає 0 та __add __, який приймає self та other в якості аргументів, а повертає суму площин фігур self та other."
      ],
      "metadata": {
        "id": "-6X8EGfjMd2y"
      }
    },
    {
      "cell_type": "code",
      "source": [
        "class Shape:\n",
        "    def get_area(self):\n",
        "        return 0\n",
        "    def __add__(self, other):\n",
        "        return self.get_area() + other.get_area()\n",
        "\n",
        "figure1 = Shape()\n",
        "figure2 = Shape()\n",
        "\n",
        "total_area = figure1 + figure2\n",
        "total_area"
      ],
      "metadata": {
        "id": "4rvO_wYUMaEr"
      },
      "execution_count": null,
      "outputs": []
    },
    {
      "cell_type": "markdown",
      "source": [
        "6. (11б). Створіть 2 дочірніх класи від Фігури: Трикутник та Коло, які мають атрибути, необхідні для розрахунку площин. Визначте метод get_area в кожному з них так, щоби вони розраховували площу в залежності від формули для кожного типу фігури. Створіть обʼєкт класу Трикутник та обʼєкт класу Коло. Виконайте операцію суми за допомогою оператора + між ними."
      ],
      "metadata": {
        "id": "SFcKnnv5Mo_z"
      }
    },
    {
      "cell_type": "code",
      "source": [
        "import math\n",
        "class Shape:\n",
        "    def get_area(self):\n",
        "        return 0\n",
        "    def __add__(self, other):\n",
        "        return self.get_area() + other.get_area()\n",
        "\n",
        "class Circle(Shape):\n",
        "    def __init__(self, radius):\n",
        "        self.radius = radius\n",
        "\n",
        "    def get_area(self):\n",
        "        return math.pi * (self.radius ** 2)\n",
        "\n",
        "class Triangle(Shape):\n",
        "    def __init__(self, base, height):\n",
        "        self.base = base\n",
        "        self.height = height\n",
        "\n",
        "    def get_area(self):\n",
        "        return 0.5 * self.base * self.height\n",
        "\n",
        "circle1 = Circle(radius=3)\n",
        "triangle1 = Triangle(base=7, height=3)\n",
        "\n",
        "total_area = triangle1 + circle1\n",
        "print(f\"Сумарна площа трикутника і круга дорівнює: {total_area:.2f}\")"
      ],
      "metadata": {
        "id": "H3GVNr69Muf3",
        "colab": {
          "base_uri": "https://localhost:8080/"
        },
        "outputId": "9548db40-df2a-4e1a-fa2a-ebf30e111d17"
      },
      "execution_count": 15,
      "outputs": [
        {
          "output_type": "stream",
          "name": "stdout",
          "text": [
            "Сумарна площа трикутника і круга дорівнює: 38.77\n"
          ]
        }
      ]
    },
    {
      "cell_type": "markdown",
      "source": [
        "7. (3б). Продемонструйте різницю між isinstance та issubclass."
      ],
      "metadata": {
        "id": "HCvR206YMvLK"
      }
    },
    {
      "cell_type": "code",
      "source": [
        "triangle = Triangle(base=8, height=6)\n",
        "circle = Circle(radius=8)\n",
        "print(issubclass(Triangle, Shape))\n",
        "print(issubclass(Circle, Shape))\n",
        "print(isinstance(triangle, Shape))\n",
        "print(isinstance(circle, Shape))\n",
        "print(isinstance(circle, Circle))\n",
        "print(isinstance(triangle, Triangle))\n",
        "print(issubclass(Triangle, Circle))\n",
        "print(issubclass(Circle, Triangle))"
      ],
      "metadata": {
        "id": "L_V1bBvDM0GN",
        "colab": {
          "base_uri": "https://localhost:8080/"
        },
        "outputId": "0c6ddb31-5ba0-4b82-d0de-5235bc761f48"
      },
      "execution_count": 17,
      "outputs": [
        {
          "output_type": "stream",
          "name": "stdout",
          "text": [
            "True\n",
            "True\n",
            "True\n",
            "True\n",
            "True\n",
            "True\n",
            "False\n",
            "False\n"
          ]
        }
      ]
    },
    {
      "cell_type": "markdown",
      "source": [
        "8. (13б). Створіть клас BankAccount з приватними атрибутами balance та account_number. Реалізуйте методи поповнення та зняття коштів, забезпечивши належну інкапсуляцію. Підказка: використовуйте декоратори property та setter."
      ],
      "metadata": {
        "id": "jjsaBZ-iM0Qq"
      }
    },
    {
      "cell_type": "code",
      "source": [
        "class BankAccount:\n",
        "    def __init__(self, account_number, initial_balance=0):\n",
        "        self.__balance = initial_balance\n",
        "        self.__account_number = account_number\n",
        "\n",
        "    @property\n",
        "    def balance(self):\n",
        "        return self.__balance\n",
        "\n",
        "    @property\n",
        "    def account_number(self):\n",
        "        return self.__account_number\n",
        "\n",
        "    @balance.setter\n",
        "    def change_account_balance(self, balance):\n",
        "        self.__account_balance = balance\n",
        "\n",
        "    @account_number.setter\n",
        "    def change_account_number(self, account):\n",
        "        self.__account_number = account\n",
        "\n",
        "    def deposit(self, amount):\n",
        "        if amount > 0:\n",
        "            self.__balance += amount\n",
        "            print(f\"Внесено {amount}. Новий баланс: {self.__balance}\")\n",
        "        else:\n",
        "            print(\"Сума внеску має бути додатною\")\n",
        "\n",
        "    def withdraw(self, amount):\n",
        "        if amount > 0 and amount <= self.__balance:\n",
        "            self.__balance -= amount\n",
        "            print(f\"Знято {amount}. Новий баланс: {self.__balance}\")\n",
        "        elif amount > self.__balance:\n",
        "            print(\"Недостатньо коштів\")\n",
        "        else:\n",
        "            print(\"Сума для зняття має бути додатною\")\n",
        "\n",
        "\n",
        "account = BankAccount(\"14881488\", 1000)\n",
        "account.deposit(1000)\n",
        "account.withdraw(222)\n",
        "account.withdraw(1300)\n",
        "print(\"Поточний баланс:\", account.balance)\n",
        "\n",
        "try:\n",
        "    account.balance = 2000\n",
        "except AttributeError as e:\n",
        "    print(\"Не можна змінити атрибут:\", e)\n",
        "\n",
        "print('Старий номер рахунку: ', account.account_number)\n",
        "try:\n",
        "    account.change_account_number = \"13371337\"\n",
        "except AttributeError as e:\n",
        "    print(\"Не можна змінити атрибут:\", e)\n",
        "\n",
        "print('Новий номер рахунку: ', account.account_number)\n"
      ],
      "metadata": {
        "id": "xCvZ7lh8M7YA",
        "colab": {
          "base_uri": "https://localhost:8080/"
        },
        "outputId": "bfefcc77-736d-48b2-c57a-2cd58e4e2c31"
      },
      "execution_count": 19,
      "outputs": [
        {
          "output_type": "stream",
          "name": "stdout",
          "text": [
            "Deposited 500. New balance: 1500\n",
            "Withdrew 200. New balance: 1300\n",
            "Insufficient funds\n",
            "Current balance: 1300\n",
            "Cannot set attribute: can't set attribute 'balance'\n",
            "Old account number:  12345678\n",
            "New account number:  87654321\n"
          ]
        }
      ]
    },
    {
      "cell_type": "markdown",
      "source": [
        "9. (11б). Створіть клас Library, який містить список об'єктів типу Book. Реалізуйте методи для додавання книги, видалення книги та відображення списку книг."
      ],
      "metadata": {
        "id": "tIzL2SJTM8ft"
      }
    },
    {
      "cell_type": "code",
      "source": [
        "class Book:\n",
        "    def __init__(self, name: str, author: str):\n",
        "        self.name = name\n",
        "        self.author = author\n",
        "\n",
        "class Library:\n",
        "    def __init__(self):\n",
        "        self.book_collection = []\n",
        "\n",
        "    def add_book(self, book: Book):\n",
        "        self.book_collection.append(book)\n",
        "\n",
        "    def display_books(self):\n",
        "        for index, book in enumerate(self.book_collection):\n",
        "            print('ID:', index, 'Name:', book.name, \"\\nAuthor:\", book.author)\n",
        "        if not self.book_collection:\n",
        "            print(\"No books currently in the library.\")\n",
        "\n",
        "    def remove_book_by_index(self, index: int):\n",
        "        if 0 <= index < len(self.book_collection):\n",
        "            self.book_collection.pop(index)\n",
        "        else:\n",
        "            print(\"Index out of range.\")\n",
        "\n",
        "lib = Library()\n",
        "lib.add_book(Book('Dune', \"Frank Herbert\"))\n",
        "lib.add_book(Book('Dune Messiah', \"Frank Herbert\"))\n",
        "lib.add_book(Book('Children of Dune', \"Frank Herbert\"))\n",
        "lib.add_book(Book('God Emperor of Dune', \"Frank Herbert\"))\n",
        "lib.add_book(Book('Heretics of Dune', \"Frank Herbert\"))\n",
        "lib.add_book(Book('Chapterhouse: Dune', \"Frank Herbert\"))\n",
        "\n",
        "lib.display_books()\n",
        "lib.remove_book_by_index(0)\n",
        "lib.remove_book_by_index(1)\n",
        "lib.display_books()"
      ],
      "metadata": {
        "id": "HWxfJKLtNAUZ",
        "colab": {
          "base_uri": "https://localhost:8080/"
        },
        "outputId": "e1a9c7bf-0ebd-46e3-ffa2-50e292b66bcd"
      },
      "execution_count": 24,
      "outputs": [
        {
          "output_type": "stream",
          "name": "stdout",
          "text": [
            "ID: 0 Name: Dune \n",
            "Author: Frank Herbert\n",
            "ID: 1 Name: Dune Messiah \n",
            "Author: Frank Herbert\n",
            "ID: 2 Name: Children of Dune \n",
            "Author: Frank Herbert\n",
            "ID: 3 Name: God Emperor of Dune \n",
            "Author: Frank Herbert\n",
            "ID: 4 Name: Heretics of Dune \n",
            "Author: Frank Herbert\n",
            "ID: 5 Name: Chapterhouse: Dune \n",
            "Author: Frank Herbert\n",
            "ID: 0 Name: Dune Messiah \n",
            "Author: Frank Herbert\n",
            "ID: 1 Name: God Emperor of Dune \n",
            "Author: Frank Herbert\n",
            "ID: 2 Name: Heretics of Dune \n",
            "Author: Frank Herbert\n",
            "ID: 3 Name: Chapterhouse: Dune \n",
            "Author: Frank Herbert\n"
          ]
        }
      ]
    },
    {
      "cell_type": "markdown",
      "source": [
        "10. (13б). Створіть клас Person з атрибутами name та age. Створіть ще один клас Employee з такими атрибутами, як department та salary. Створіть клас Manager, який успадковує обидва класи Person та Employee. Продемонструйте використання множинної спадковості, створивши обʼєкт класу Manager та отримавши mro для цього класу."
      ],
      "metadata": {
        "id": "lmV8pAwwNIqu"
      }
    },
    {
      "cell_type": "code",
      "source": [
        "class Person:\n",
        "    def __init__(self, name: str, age: int):\n",
        "        self.name = name\n",
        "        self.age = age\n",
        "class Employee:\n",
        "    def __init__(self, department: str, salary: int):\n",
        "        self.department = department\n",
        "        self.salary = salary\n",
        "class Manager(Person, Employee):\n",
        "    def __init__(self, name: str, age: int, department: str, salary:  int):\n",
        "        Person.__init__(self, name, age)\n",
        "        Employee.__init__(self, department, salary)\n",
        "\n",
        "Manager.mro()"
      ],
      "metadata": {
        "id": "R49grKlWNPeN"
      },
      "execution_count": null,
      "outputs": []
    },
    {
      "cell_type": "markdown",
      "source": [
        "# II. Iterator"
      ],
      "metadata": {
        "id": "dIJyUiNBFG8G"
      }
    },
    {
      "cell_type": "markdown",
      "source": [
        "11. (4б). Визначте рядок(str) з 4ма різними за значенням символами. Створіть ітератор на основі цього рядка. Викличте 5 разів функцію next на ітераторі, 4ри перших з них огорніть у ф-цію print()."
      ],
      "metadata": {
        "id": "13vsm0NyKIzL"
      }
    },
    {
      "cell_type": "code",
      "source": [
        "str1 = \"abcd\"\n",
        "iterator = iter(str1)\n",
        "try:\n",
        "  for i in range(5):\n",
        "      value = next(iterator)\n",
        "      if i < 4:\n",
        "          print(value)\n",
        "      else:\n",
        "          print(value, end=\" \")\n",
        "except StopIteration:\n",
        "  print(\"The iterator is out of values\")"
      ],
      "metadata": {
        "id": "81ntabAkKuz-"
      },
      "execution_count": null,
      "outputs": []
    },
    {
      "cell_type": "markdown",
      "source": [
        "А що якщо викликати цю ж функцію на рядку?"
      ],
      "metadata": {
        "id": "aekWHGXOLRsO"
      }
    },
    {
      "cell_type": "code",
      "source": [
        "str1 = \"acab\"\n",
        "try:\n",
        "  next(str1)\n",
        "except TypeError as e:\n",
        "    print(\"Error:\", e)"
      ],
      "metadata": {
        "id": "mxATGsErLV1i",
        "colab": {
          "base_uri": "https://localhost:8080/"
        },
        "outputId": "f93e3f14-8167-49ec-cd02-8f11a3b34f5a"
      },
      "execution_count": 23,
      "outputs": [
        {
          "output_type": "stream",
          "name": "stdout",
          "text": [
            "Error: 'str' object is not an iterator\n"
          ]
        }
      ]
    },
    {
      "cell_type": "markdown",
      "source": [
        " 12. (5б). Опишіть своїми словами в одному реченні, як ви розумієте різницю між ітерабельними обʼєктами та ітераторами (можна на прикладі)."
      ],
      "metadata": {
        "id": "XwtMEopwJ4pH"
      }
    },
    {
      "cell_type": "markdown",
      "source": [
        "Ітерабельні об'єкти - це ті, по яких можна пройтися в циклі , тоді як ітератори - це спеціальні об'єкти, які використовуються для навігації по ітерабельним об'єктам та отримання їхніх елементів по одному за допомогою методу next()"
      ],
      "metadata": {
        "id": "-sHrODc3KFn8"
      }
    },
    {
      "cell_type": "markdown",
      "source": [
        "13. (11б). Створіть клас, що має визначений Iterator Protocol та при кожному виклику next повертає літери англійської абетки, поки вони не вичерпаються."
      ],
      "metadata": {
        "id": "E9qJWmNbK8Gl"
      }
    },
    {
      "cell_type": "code",
      "source": [
        "class Alphabet:\n",
        "    def __init__(self):\n",
        "        self.letters = 'ABCDEFGHIJKLMNOPQRSTUVWXYZ'\n",
        "        self.index = 0\n",
        "\n",
        "    def __next__(self):\n",
        "        if self.index < len(self.letters):\n",
        "            letter = self.letters[self.index]\n",
        "            self.index += 1\n",
        "            return letter\n",
        "        else:\n",
        "            raise StopIteration\n",
        "\n",
        "    def __iter__(self):\n",
        "        return self\n",
        "\n",
        "alphabet_iterator = Alphabet()\n",
        "\n",
        "for letter in alphabet_iterator:\n",
        "    print(letter)"
      ],
      "metadata": {
        "id": "cqx-g_RsLo6I",
        "colab": {
          "base_uri": "https://localhost:8080/"
        },
        "outputId": "07a7668b-a166-4d80-9b64-2b131a243447"
      },
      "execution_count": 4,
      "outputs": [
        {
          "output_type": "stream",
          "name": "stdout",
          "text": [
            "A\n",
            "B\n",
            "C\n",
            "D\n",
            "E\n",
            "F\n",
            "G\n",
            "H\n",
            "I\n",
            "J\n",
            "K\n",
            "L\n",
            "M\n",
            "N\n",
            "O\n",
            "P\n",
            "Q\n",
            "R\n",
            "S\n",
            "T\n",
            "U\n",
            "V\n",
            "W\n",
            "X\n",
            "Y\n",
            "Z\n"
          ]
        }
      ]
    },
    {
      "cell_type": "markdown",
      "source": [
        "# Вітаю! Ви велика(ий) молодець, що впоралась(вся). Похваліть себе та побалуйте чимось приємним. Я Вами пишаюся."
      ],
      "metadata": {
        "id": "Z3E3S_s1Fv7-"
      }
    }
  ]
}